{
  "cells": [
    {
      "cell_type": "code",
      "execution_count": null,
      "metadata": {
        "id": "ZG-_DTpi4ev_"
      },
      "outputs": [],
      "source": [
        "import pickle\n",
        "import numpy as np\n",
        "\n",
        "from matplotlib import pyplot as plt\n",
        "from tqdm import tqdm\n",
        "\n",
        "import torch\n",
        "import torch.nn as nn\n",
        "from torch.utils.data import Dataset, DataLoader\n",
        "from torch.autograd import Variable\n",
        "\n",
        "from sklearn.model_selection import cross_val_score\n",
        "from sklearn.metrics import ConfusionMatrixDisplay\n",
        "from sklearn.svm import SVC"
      ]
    },
    {
      "cell_type": "markdown",
      "metadata": {},
      "source": [
        "# Loading the Data and Creating the `Dataset` and `DataLoader`"
      ]
    },
    {
      "cell_type": "markdown",
      "metadata": {},
      "source": [
        "Defining the `Dataset` and `DataLoader`"
      ]
    },
    {
      "cell_type": "code",
      "execution_count": null,
      "metadata": {
        "id": "tuL6_xBM7ozM"
      },
      "outputs": [],
      "source": [
        "class NeuralActivityDataset(Dataset):\n",
        "\n",
        "    def __init__(self, n_triplets, train_data, train_labels, train, device):\n",
        "\n",
        "        self.n_triplets = n_triplets\n",
        "        self.train_data = train_data\n",
        "        # self.train_data = self.train_data.to(device)\n",
        "        self.train_triplets = self.generate_triplets(train_labels)\n",
        "        # self.train_triplets = torch.Tensor(self.train_triplets).to(device)\n",
        "        self.train = train\n",
        "\n",
        "    def generate_triplets(self, labels):\n",
        "        triplets = []\n",
        "\n",
        "        for n in range(self.n_triplets):\n",
        "            idx = np.random.randint(0, labels.size(0))\n",
        "\n",
        "            idx_matches = np.where(labels.numpy() == labels[idx].numpy())[0] # Get the row indices of the matching classes\n",
        "            idx_no_matches = np.where(labels.numpy() != labels[idx].numpy())[0] # Get the row indices of mismatch classes\n",
        "\n",
        "            idx_a, idx_p = np.random.choice(idx_matches, 2, replace = False) # returns array consisting of two indices -> ints\n",
        "            idx_n = np.random.choice(idx_no_matches, 1)[0] # return an index -> int not a numpy array of [int]\n",
        "\n",
        "            triplets.append([idx_a, idx_p, idx_n])\n",
        "\n",
        "        return np.array(triplets)\n",
        "\n",
        "    def __getitem__(self, index):\n",
        "\n",
        "        if self.train:\n",
        "            t = self.train_triplets[index]\n",
        "            a, p, n = self.train_data[t[0]], self.train_data[t[1]], self.train_data[t[2]]\n",
        "\n",
        "        return a, p, n\n",
        "\n",
        "    def __len__(self):\n",
        "        if self.train:\n",
        "            return self.train_triplets.shape[0]\n"
      ]
    },
    {
      "cell_type": "markdown",
      "metadata": {},
      "source": [
        "Loading the Data"
      ]
    },
    {
      "cell_type": "code",
      "execution_count": null,
      "metadata": {
        "colab": {
          "base_uri": "https://localhost:8080/"
        },
        "id": "Ul81_BfHLjpS",
        "outputId": "b839e2df-1435-4711-fb3e-80ddca99798a"
      },
      "outputs": [
        {
          "name": "stdout",
          "output_type": "stream",
          "text": [
            "Using cuda device\n"
          ]
        }
      ],
      "source": [
        "file = open(\"/content/drive/MyDrive/Deep Learning Project/spike_data/entire_dict.pkl\", 'rb')\n",
        "data = pickle.load(file)\n",
        "\n",
        "device = (\n",
        "    \"cuda\"\n",
        "    if torch.cuda.is_available()\n",
        "    else \"mps\"\n",
        "    if torch.backends.mps.is_available()\n",
        "    else \"cpu\"\n",
        ")\n",
        "print(f\"Using {device} device\")\n",
        "\n",
        "train_labels = torch.Tensor(np.array(list(data.keys()), dtype=np.float32)[:,1])\n",
        "train_data = torch.Tensor(np.array(list(data.values()), dtype=np.float32)).transpose(1,2)"
      ]
    },
    {
      "cell_type": "markdown",
      "metadata": {},
      "source": [
        "Initializing our `Dataset` and `DataLoader`"
      ]
    },
    {
      "cell_type": "code",
      "execution_count": null,
      "metadata": {
        "id": "PodG_bhPLpQ7"
      },
      "outputs": [],
      "source": [
        "neural_activity_dataset = NeuralActivityDataset(n_triplets=60000, train_data=train_data, train_labels=train_labels, train=True, device=device)"
      ]
    },
    {
      "cell_type": "code",
      "execution_count": null,
      "metadata": {
        "id": "UHvKsK92kaAI"
      },
      "outputs": [],
      "source": [
        "dataloader = DataLoader(neural_activity_dataset, batch_size=1024, shuffle=True, num_workers=1, pin_memory=True)"
      ]
    },
    {
      "cell_type": "markdown",
      "metadata": {},
      "source": [
        "# Creating the Transformer"
      ]
    },
    {
      "cell_type": "code",
      "execution_count": null,
      "metadata": {
        "id": "x2ooHTcYLGse"
      },
      "outputs": [],
      "source": [
        "class TransformerModel(nn.Module):\n",
        "    def __init__(self, device, len_seq = 50, num_neurons = 93, d_model = 128, nhead = 4, feed_forward_dim = 1024, num_layers=4, dropout = 0.4, final_embed_dim = 8):\n",
        "        super().__init__()\n",
        "        self.num_neurons = num_neurons\n",
        "        self.embed = d_model\n",
        "        self.encoder_layer = nn.TransformerEncoderLayer(d_model=d_model, nhead=nhead, batch_first=True,\n",
        "                                                        dim_feedforward=feed_forward_dim, dropout=dropout, device=device)\n",
        "\n",
        "        self.transformer_encoder = nn.TransformerEncoder(self.encoder_layer, num_layers = num_layers)\n",
        "        self.mlp = nn.Linear(len_seq*d_model, final_embed_dim, device=device)\n",
        "        self.embedding = nn.Linear(num_neurons, d_model)\n",
        "\n",
        "    def forward(self, source, train):\n",
        "        if train:\n",
        "            embed_in = self.embedding(source)\n",
        "            transformer_out = self.transformer_encoder(embed_in)\n",
        "            embeddings = self.mlp(transformer_out.flatten(start_dim = 1))\n",
        "\n",
        "            # transformer_out_p = self.transformer_encoder(source[1])\n",
        "            # embeddings_p = self.mlp(transformer_out_p.flatten(start_dim = 1))\n",
        "\n",
        "            # transformer_out_n = self.transformer_encoder(source[2])\n",
        "            # embeddings_n = self.mlp(transformer_out_n.flatten(start_dim = 1))\n",
        "\n",
        "            return embeddings #, embeddings_p, embeddings_n\n",
        "        else:\n",
        "            embed_in = self.embedding(source)\n",
        "            transformer_out = self.transformer_encoder(embed_in)\n",
        "            embeddings = self.mlp(transformer_out.flatten(start_dim=1))\n",
        "\n",
        "            return embeddings\n"
      ]
    },
    {
      "cell_type": "markdown",
      "metadata": {},
      "source": [
        "# Training the Transformer"
      ]
    },
    {
      "cell_type": "markdown",
      "metadata": {},
      "source": [
        "Declaring Constants"
      ]
    },
    {
      "cell_type": "code",
      "execution_count": null,
      "metadata": {
        "colab": {
          "base_uri": "https://localhost:8080/"
        },
        "id": "7UZB6pXb7xIR",
        "outputId": "e06032bf-1957-461e-e470-75de576b4f98"
      },
      "outputs": [
        {
          "name": "stdout",
          "output_type": "stream",
          "text": [
            "Using cuda device\n"
          ]
        }
      ],
      "source": [
        "# torch.manual_seed(2)\n",
        "\n",
        "final_embed_dim = 8\n",
        "transformer_model = TransformerModel(final_embed_dim = final_embed_dim, device=device)\n",
        "transformer_model.cuda()\n",
        "optimizer = torch.optim.Adam(transformer_model.parameters(), lr = 0.001)\n",
        "epochs = 50\n",
        "triplet_loss = nn.TripletMarginLoss(margin=1.0, p=2, eps=1e-7)"
      ]
    },
    {
      "cell_type": "markdown",
      "metadata": {},
      "source": [
        "Defining Training Loop"
      ]
    },
    {
      "cell_type": "code",
      "execution_count": null,
      "metadata": {
        "id": "ZcuxgQYsuzLV"
      },
      "outputs": [],
      "source": [
        "def train(epochs, epoch_loss):\n",
        "    transformer_model.train()\n",
        "    batch_loss = []\n",
        "    for batch, (data_a, data_p, data_n) in enumerate(dataloader):\n",
        "        if device == \"cuda\":\n",
        "            data_a, data_p, data_n = data_a.cuda(), data_p.cuda(), data_n.cuda()\n",
        "        data_a, data_p, data_n = Variable(data_a), Variable(data_p), Variable(data_n)\n",
        "        optimizer.zero_grad()\n",
        "        embeddings_a, embeddings_p, embeddings_n = transformer_model(data_a, train = True), transformer_model(data_p, train = True), transformer_model(data_n, train = True)\n",
        "        loss = triplet_loss(embeddings_a, embeddings_p, embeddings_n)\n",
        "        loss.backward()\n",
        "        optimizer.step()\n",
        "\n",
        "        batch_loss.append(loss.cpu().detach().numpy())\n",
        "    epoch_loss.append(np.mean(batch_loss))"
      ]
    },
    {
      "cell_type": "markdown",
      "metadata": {},
      "source": [
        "Training the Transformer"
      ]
    },
    {
      "cell_type": "code",
      "execution_count": null,
      "metadata": {
        "colab": {
          "base_uri": "https://localhost:8080/"
        },
        "id": "-EN5vl5EwNiU",
        "outputId": "501b2880-5b72-4a97-b28f-ad396531b8f8"
      },
      "outputs": [
        {
          "name": "stderr",
          "output_type": "stream",
          "text": [
            "100%|██████████| 50/50 [30:27<00:00, 36.56s/it]\n"
          ]
        }
      ],
      "source": [
        "epoch_loss = []\n",
        "for epoch in tqdm(range(1, epochs+1)):\n",
        "    train(epoch, epoch_loss)"
      ]
    },
    {
      "cell_type": "markdown",
      "metadata": {},
      "source": [
        "Saving the Transformer"
      ]
    },
    {
      "cell_type": "code",
      "execution_count": null,
      "metadata": {
        "id": "8ts9DK6U9oyc"
      },
      "outputs": [],
      "source": [
        "torch.save(transformer_model.state_dict(), \"/content/drive/MyDrive/Deep Learning Project/transformer_model_transpose_1024.pkl\")"
      ]
    },
    {
      "cell_type": "code",
      "execution_count": null,
      "metadata": {
        "colab": {
          "base_uri": "https://localhost:8080/",
          "height": 472
        },
        "id": "rsbT9ZvoqziL",
        "outputId": "a9c6b97a-c1a4-467a-9572-848c298dbeaf"
      },
      "outputs": [
        {
          "data": {
            "image/png": "[encoded data removed]",
            "text/plain": [
              "<Figure size 640x480 with 1 Axes>"
            ]
          },
          "metadata": {},
          "output_type": "display_data"
        }
      ],
      "source": [
        "plt.plot(epoch_loss, label = \"TripletMarginLoss\")\n",
        "plt.xlabel(\"epochs\")\n",
        "plt.ylabel(\"TripletLoss\")\n",
        "plt.title(\"TripletLoss vs Epochs\")\n",
        "plt.legend()\n",
        "plt.show()"
      ]
    },
    {
      "cell_type": "code",
      "execution_count": null,
      "metadata": {
        "colab": {
          "base_uri": "https://localhost:8080/"
        },
        "id": "MR7jjPguepvj",
        "outputId": "5dbd7ff4-08ac-46e9-f141-88612391cc19"
      },
      "outputs": [
        {
          "data": {
            "text/plain": [
              "TransformerModel(\n",
              "  (encoder_layer): TransformerEncoderLayer(\n",
              "    (self_attn): MultiheadAttention(\n",
              "      (out_proj): NonDynamicallyQuantizableLinear(in_features=128, out_features=128, bias=True)\n",
              "    )\n",
              "    (linear1): Linear(in_features=128, out_features=1024, bias=True)\n",
              "    (dropout): Dropout(p=0.4, inplace=False)\n",
              "    (linear2): Linear(in_features=1024, out_features=128, bias=True)\n",
              "    (norm1): LayerNorm((128,), eps=1e-05, elementwise_affine=True)\n",
              "    (norm2): LayerNorm((128,), eps=1e-05, elementwise_affine=True)\n",
              "    (dropout1): Dropout(p=0.4, inplace=False)\n",
              "    (dropout2): Dropout(p=0.4, inplace=False)\n",
              "  )\n",
              "  (transformer_encoder): TransformerEncoder(\n",
              "    (layers): ModuleList(\n",
              "      (0-3): 4 x TransformerEncoderLayer(\n",
              "        (self_attn): MultiheadAttention(\n",
              "          (out_proj): NonDynamicallyQuantizableLinear(in_features=128, out_features=128, bias=True)\n",
              "        )\n",
              "        (linear1): Linear(in_features=128, out_features=1024, bias=True)\n",
              "        (dropout): Dropout(p=0.4, inplace=False)\n",
              "        (linear2): Linear(in_features=1024, out_features=128, bias=True)\n",
              "        (norm1): LayerNorm((128,), eps=1e-05, elementwise_affine=True)\n",
              "        (norm2): LayerNorm((128,), eps=1e-05, elementwise_affine=True)\n",
              "        (dropout1): Dropout(p=0.4, inplace=False)\n",
              "        (dropout2): Dropout(p=0.4, inplace=False)\n",
              "      )\n",
              "    )\n",
              "  )\n",
              "  (mlp): Linear(in_features=6400, out_features=8, bias=True)\n",
              "  (embedding): Linear(in_features=93, out_features=128, bias=True)\n",
              ")"
            ]
          },
          "execution_count": 18,
          "metadata": {},
          "output_type": "execute_result"
        }
      ],
      "source": [
        "transformer_model.load_state_dict(torch.load(\"/content/drive/MyDrive/Deep Learning Project/transformer_model_transpose_1024.pkl\"))\n",
        "transformer_model.eval()"
      ]
    },
    {
      "cell_type": "code",
      "execution_count": null,
      "metadata": {
        "id": "eM2H7txCtkBt"
      },
      "outputs": [],
      "source": [
        "class TestDataset(Dataset):\n",
        "    def __init__(self, test_data, test_labels):\n",
        "        self.test_data = test_data\n",
        "        self.test_labels = test_data\n",
        "\n",
        "    def __getitem__(self, idx):\n",
        "        return self.test_data[idx], self.test_labels[idx]\n",
        "\n",
        "    def __len__(self):\n",
        "        return self.test_labels.shape[0]\n",
        "\n",
        "test_data, test_labels = train_data, train_labels\n",
        "test_dataset = TestDataset(test_data, test_labels)\n",
        "test_dataloader = DataLoader(test_dataset)"
      ]
    },
    {
      "cell_type": "code",
      "execution_count": null,
      "metadata": {
        "id": "QBaVVDX1COM3"
      },
      "outputs": [],
      "source": [
        "def score(model, classifier, dataloader, labels, output_dims):\n",
        "    model.eval()\n",
        "    model = model.to(device)\n",
        "    encodings = np.empty((1, output_dims))\n",
        "\n",
        "    for data in dataloader:\n",
        "        data = data.to(device)\n",
        "        encoded = model(data.unsqueeze(0), train=False)\n",
        "        encoded = encoded.detach().cpu().numpy()\n",
        "        encodings = np.append(encodings, encoded, axis=0)\n",
        "\n",
        "    encodings = encodings[1:]\n",
        "\n",
        "    clf = classifier()\n",
        "    score = cross_val_score(clf, encodings, labels, scoring=\"accuracy\", cv=5, n_jobs=-1)\n",
        "    avg_score = score.mean()\n",
        "    print(f\"Average Accuracy: {avg_score}\")\n",
        "    return avg_score\n",
        "\n",
        "def confusion_matrix(model, classifier, dataloader, labels, output_dims):\n",
        "    model.eval()\n",
        "    model = model.to(device)\n",
        "    encodings = np.empty((1, output_dims))\n",
        "\n",
        "    for data in dataloader:\n",
        "        data = data.to(device)\n",
        "        encoded = model(data.unsqueeze(0), train=False)\n",
        "        encoded = encoded.detach().cpu().numpy()\n",
        "        encodings = np.append(encodings, encoded, axis=0)\n",
        "\n",
        "    encodings = encodings[1:]\n",
        "\n",
        "    clf = classifier()\n",
        "    clf.fit(encodings, labels)\n",
        "    ConfusionMatrixDisplay.from_estimator(clf, encodings, labels)\n",
        "    plt.show()\n",
        "\n",
        "def plot_losses(losses):\n",
        "    plt.plot(losses)\n",
        "    plt.xlabel(\"Epochs\")\n",
        "    plt.ylabel(\"Mean Squared Error\")\n",
        "    plt.title(\"Mean Squared Error vs. Epochs\")\n",
        "    plt.show()"
      ]
    },
    {
      "cell_type": "code",
      "execution_count": null,
      "metadata": {
        "colab": {
          "base_uri": "https://localhost:8080/"
        },
        "id": "CtEWCOqCHCgn",
        "outputId": "509f1c75-b140-4991-98f5-f4f6f8a3c976"
      },
      "outputs": [
        {
          "name": "stdout",
          "output_type": "stream",
          "text": [
            "Average Accuracy: 0.9981784234757954\n"
          ]
        },
        {
          "data": {
            "text/plain": [
              "0.9981784234757954"
            ]
          },
          "execution_count": 20,
          "metadata": {},
          "output_type": "execute_result"
        }
      ],
      "source": [
        "score(transformer_model, SVC, test_data, test_labels, final_embed_dim)"
      ]
    },
    {
      "cell_type": "code",
      "execution_count": null,
      "metadata": {
        "colab": {
          "base_uri": "https://localhost:8080/",
          "height": 449
        },
        "id": "uonzsArUKkfB",
        "outputId": "708d879f-9e07-4bba-9eec-598dfdc14db7"
      },
      "outputs": [
        {
          "data": {
            "image/png": "[encoded data removed]",
            "text/plain": [
              "<Figure size 640x480 with 2 Axes>"
            ]
          },
          "metadata": {},
          "output_type": "display_data"
        }
      ],
      "source": [
        "confusion_matrix(transformer_model, SVC, test_data, test_labels, final_embed_dim)"
      ]
    }
  ],
  "metadata": {
    "accelerator": "GPU",
    "colab": {
      "gpuType": "T4",
      "provenance": []
    },
    "kernelspec": {
      "display_name": "Python 3",
      "name": "python3"
    },
    "language_info": {
      "name": "python"
    }
  },
  "nbformat": 4,
  "nbformat_minor": 0
}
