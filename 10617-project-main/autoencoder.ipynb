{
  "cells": [
    {
      "cell_type": "code",
      "execution_count": 3,
      "metadata": {
        "id": "drJZTy8Nvylm"
      },
      "outputs": [],
      "source": [
        "import torch\n",
        "import torch.nn as nn\n",
        "from torch.utils.data import Dataset, DataLoader\n",
        "import numpy as np\n",
        "import pandas as pd\n",
        "import matplotlib.pyplot as plt\n",
        "from tqdm import tqdm\n",
        "from sklearn.model_selection import cross_val_score\n",
        "from sklearn.metrics import ConfusionMatrixDisplay"
      ]
    },
    {
      "cell_type": "markdown",
      "metadata": {
        "id": "CMNyfC4qvylo"
      },
      "source": [
        "The data is from four categories:\n",
        "\n",
        "- Spontaneous: 0\n",
        "- Flashes: 1\n",
        "- Static Gratings: 2\n",
        "- Natural Scenes: 3"
      ]
    },
    {
      "cell_type": "markdown",
      "metadata": {
        "id": "ibguGU3hvylp"
      },
      "source": [
        "Constant Declaration"
      ]
    },
    {
      "cell_type": "code",
      "execution_count": 26,
      "metadata": {
        "colab": {
          "base_uri": "https://localhost:8080/"
        },
        "id": "Zpt58lc_vylq",
        "outputId": "8c8b5bb7-d160-42cf-9a8e-39033110db05"
      },
      "outputs": [
        {
          "name": "stdout",
          "output_type": "stream",
          "text": [
            "Using cuda device\n"
          ]
        }
      ],
      "source": [
        "load_model = False\n",
        "\n",
        "device = (\n",
        "    \"cuda\"\n",
        "    if torch.cuda.is_available()\n",
        "    else \"mps\"\n",
        "    if torch.backends.mps.is_available()\n",
        "    else \"cpu\"\n",
        ")\n",
        "print(f\"Using {device} device\")\n",
        "\n",
        "input_size = 93\n",
        "output_dims = 8\n",
        "\n",
        "data_dir = \"stimulus_data/trimmed_data.csv\"\n",
        "\n",
        "num_epochs = 200"
      ]
    },
    {
      "cell_type": "markdown",
      "metadata": {
        "id": "o4ex_dQTvyls"
      },
      "source": [
        "Loading Data"
      ]
    },
    {
      "cell_type": "code",
      "execution_count": 27,
      "metadata": {
        "id": "UeB1YCJ1vylt"
      },
      "outputs": [],
      "source": [
        "data_df = pd.read_csv(data_dir)\n",
        "\n",
        "class dataset(Dataset):\n",
        "    def __init__(self, data_df):\n",
        "        df = data_df.drop(\"stimulus\", axis=\"columns\")\n",
        "        data = df.to_numpy()\n",
        "        self.data = torch.tensor(data, dtype=torch.float)\n",
        "    def __len__(self):\n",
        "        return self.data.shape[0]\n",
        "    def __getitem__(self, index):\n",
        "        return self.data[index]\n",
        "\n",
        "data = dataset(data_df)\n",
        "labels = data_df[\"stimulus\"].to_numpy()\n",
        "train_dataloader = DataLoader(data, batch_size=32, shuffle=True)\n",
        "test_dataloader = DataLoader(data, batch_size=32, shuffle=False)"
      ]
    },
    {
      "cell_type": "markdown",
      "metadata": {
        "id": "V6TE4x7Uvylt"
      },
      "source": [
        "Model Creation"
      ]
    },
    {
      "cell_type": "code",
      "execution_count": 28,
      "metadata": {
        "id": "ON41ow_xvylt"
      },
      "outputs": [],
      "source": [
        "class Autoencoder(nn.Module):\n",
        "    def __init__(self):\n",
        "        super().__init__()\n",
        "        self.encoder = nn.Sequential(\n",
        "            nn.Linear(input_size, 100),\n",
        "            nn.ELU(),\n",
        "            nn.Linear(100, 75),\n",
        "            nn.ELU(),\n",
        "            nn.Linear(75, 50),\n",
        "            nn.ELU(),\n",
        "            nn.Linear(50, 25),\n",
        "            nn.ELU(),\n",
        "            nn.Linear(25, output_dims),\n",
        "            nn.ELU(),\n",
        "            nn.Linear(output_dims, output_dims),\n",
        "        )\n",
        "        self.decoder = nn.Sequential(\n",
        "            nn.Linear(output_dims, output_dims),\n",
        "            nn.ELU(),\n",
        "            nn.Linear(output_dims, 25),\n",
        "            nn.ELU(),\n",
        "            nn.Linear(25, 50),\n",
        "            nn.ELU(),\n",
        "            nn.Linear(50, 75),\n",
        "            nn.ELU(),\n",
        "            nn.Linear(75, 100),\n",
        "            nn.ELU(),\n",
        "            nn.Linear(100, input_size)\n",
        "        )\n",
        "\n",
        "    def forward(self, x):\n",
        "        encoded = self.encoder(x)\n",
        "        decoded = self.decoder(encoded)\n",
        "        return encoded, decoded"
      ]
    },
    {
      "cell_type": "markdown",
      "metadata": {
        "id": "P2j_a7qIvylv"
      },
      "source": [
        "Training Loop"
      ]
    },
    {
      "cell_type": "code",
      "execution_count": 29,
      "metadata": {
        "id": "1vEmWORRvylw"
      },
      "outputs": [],
      "source": [
        "def train(model, dataloader, loss_fn, optimizer, num_epochs=num_epochs):\n",
        "    avg_losses = []\n",
        "\n",
        "    model.train()\n",
        "    model = model.to(device)\n",
        "\n",
        "    pbar = tqdm(range(num_epochs))\n",
        "    for i in pbar:\n",
        "        total_loss = 0\n",
        "        num = 0\n",
        "\n",
        "        for data in dataloader:\n",
        "            data = data.to(device)\n",
        "            encoded, decoded = model(data)\n",
        "            loss = loss_fn(decoded, data)\n",
        "\n",
        "            optimizer.zero_grad()\n",
        "            loss.backward()\n",
        "            optimizer.step()\n",
        "\n",
        "            total_loss += loss\n",
        "            num += 1\n",
        "\n",
        "        avg_loss = (total_loss / num).detach().cpu().numpy()\n",
        "        avg_losses.append(avg_loss)\n",
        "        pbar.set_postfix_str(f\"MSE Loss: {avg_loss}\")\n",
        "\n",
        "    return model, avg_losses"
      ]
    },
    {
      "cell_type": "markdown",
      "metadata": {
        "id": "7w_yZlbfvylw"
      },
      "source": [
        "Evaluation"
      ]
    },
    {
      "cell_type": "code",
      "execution_count": 30,
      "metadata": {
        "id": "bTJLuZmxvylw"
      },
      "outputs": [],
      "source": [
        "def score(model, classifier, dataloader, labels):\n",
        "    model.eval()\n",
        "    model = model.to(device)\n",
        "    encodings = np.empty((1, output_dims))\n",
        "\n",
        "    for data in dataloader:\n",
        "        data = data.to(device)\n",
        "        encoded, decoded = model(data)\n",
        "        encoded = encoded.detach().cpu().numpy()\n",
        "        encodings = np.append(encodings, encoded, axis=0)\n",
        "\n",
        "    encodings = encodings[1:]\n",
        "\n",
        "    clf = classifier()\n",
        "    score = cross_val_score(clf, encodings, labels, scoring=\"accuracy\", cv=5, n_jobs=-1)\n",
        "    avg_score = score.mean()\n",
        "    print(f\"Average Accuracy: {avg_score}\")\n",
        "    return avg_score\n",
        "\n",
        "def plot_confusion_matrix(model, classifier, dataloader, labels):\n",
        "    model.eval()\n",
        "    model = model.to(device)\n",
        "    encodings = np.empty((1, output_dims))\n",
        "\n",
        "    for data in dataloader:\n",
        "        data = data.to(device)\n",
        "        encoded, decoded = model(data)\n",
        "        encoded = encoded.detach().cpu().numpy()\n",
        "        encodings = np.append(encodings, encoded, axis=0)\n",
        "\n",
        "    encodings = encodings[1:]\n",
        "\n",
        "    clf = classifier()\n",
        "    clf.fit(encodings, labels)\n",
        "    ConfusionMatrixDisplay.from_estimator(clf, encodings, labels)\n",
        "    plt.show()\n",
        "\n",
        "def plot_losses(losses):\n",
        "    plt.plot(losses)\n",
        "    plt.xlabel(\"Epochs\")\n",
        "    plt.ylabel(\"Mean Squared Error\")\n",
        "    plt.title(\"Mean Squared Error vs. Epochs\")\n",
        "    plt.show()"
      ]
    },
    {
      "cell_type": "markdown",
      "metadata": {
        "id": "0OpymDbSvylx"
      },
      "source": [
        "Training and Evaluation"
      ]
    },
    {
      "cell_type": "code",
      "execution_count": 31,
      "metadata": {
        "colab": {
          "base_uri": "https://localhost:8080/"
        },
        "id": "1u7f0vWrvylx",
        "outputId": "f8d3717d-f053-484e-b774-68c2a5b76699"
      },
      "outputs": [
        {
          "name": "stdout",
          "output_type": "stream",
          "text": [
            "using new model\n"
          ]
        },
        {
          "name": "stderr",
          "output_type": "stream",
          "text": [
            "100%|██████████| 200/200 [05:35<00:00,  1.68s/it, MSE Loss: 1.7349873781204224]\n"
          ]
        }
      ],
      "source": [
        "if(load_model):\n",
        "    print(\"loading model from storage\")\n",
        "    model = torch.load(\"autoencoder.pth\")\n",
        "else:\n",
        "    print(\"using new model\")\n",
        "    model = Autoencoder()\n",
        "\n",
        "loss_fn = nn.MSELoss()\n",
        "optimizer = torch.optim.Adam(model.parameters())\n",
        "\n",
        "model, avg_losses = train(model, train_dataloader, loss_fn, optimizer, num_epochs)"
      ]
    },
    {
      "cell_type": "code",
      "execution_count": 32,
      "metadata": {
        "colab": {
          "base_uri": "https://localhost:8080/",
          "height": 472
        },
        "id": "2P0enG_Cvyly",
        "outputId": "e4dc9357-45d7-40f5-b5d9-a9aee8d11e20"
      },
      "outputs": [
        {
          "data": {
            "image/png": "[encoded data removed]",
            "text/plain": [
              "<Figure size 640x480 with 1 Axes>"
            ]
          },
          "metadata": {},
          "output_type": "display_data"
        }
      ],
      "source": [
        "torch.save(model, \"autoencoder.pth\")\n",
        "plot_losses(avg_losses)"
      ]
    },
    {
      "cell_type": "code",
      "execution_count": 12,
      "metadata": {
        "colab": {
          "base_uri": "https://localhost:8080/",
          "height": 466
        },
        "id": "82ZfyrTyvyly",
        "outputId": "a4a04c3f-48e8-414f-dfa0-adaee3e2db57"
      },
      "outputs": [
        {
          "name": "stdout",
          "output_type": "stream",
          "text": [
            "Average Accuracy: 0.9253096221022548\n"
          ]
        },
        {
          "data": {
            "image/png": "[encoded data removed]",
            "text/plain": [
              "<Figure size 640x480 with 2 Axes>"
            ]
          },
          "metadata": {},
          "output_type": "display_data"
        }
      ],
      "source": [
        "from sklearn.svm import SVC\n",
        "avg_score = score(model, SVC, test_dataloader, labels)\n",
        "plot_confusion_matrix(model, SVC, test_dataloader, labels)"
      ]
    }
  ],
  "metadata": {
    "accelerator": "GPU",
    "colab": {
      "gpuType": "T4",
      "provenance": []
    },
    "kernelspec": {
      "display_name": "Python 3",
      "name": "python3"
    },
    "language_info": {
      "codemirror_mode": {
        "name": "ipython",
        "version": 3
      },
      "file_extension": ".py",
      "mimetype": "text/x-python",
      "name": "python",
      "nbconvert_exporter": "python",
      "pygments_lexer": "ipython3",
      "version": "3.11.6"
    }
  },
  "nbformat": 4,
  "nbformat_minor": 0
}
